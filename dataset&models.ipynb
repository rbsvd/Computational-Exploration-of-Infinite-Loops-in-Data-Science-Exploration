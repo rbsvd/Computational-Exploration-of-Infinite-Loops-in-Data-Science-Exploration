{
  "nbformat": 4,
  "nbformat_minor": 0,
  "metadata": {
    "colab": {
      "provenance": []
    },
    "kernelspec": {
      "name": "python3",
      "display_name": "Python 3"
    },
    "language_info": {
      "name": "python"
    }
  },
  "cells": [
    {
      "cell_type": "code",
      "execution_count": 1,
      "metadata": {
        "colab": {
          "base_uri": "https://localhost:8080/"
        },
        "id": "xRD4BiBjXVs4",
        "outputId": "9b51456b-56d4-4a1b-c4db-6e7a5017d1f2"
      },
      "outputs": [
        {
          "output_type": "stream",
          "name": "stdout",
          "text": [
            "Collatz RFR MSE: 2100.4271471875\n",
            "Collatz RFC Accuracy: 0.725\n",
            "Happy Logistic Accuracy: 0.855\n",
            "Happy RFC Accuracy: 0.745\n",
            "✅ Training complete! Datasets + models saved locally.\n"
          ]
        }
      ],
      "source": [
        "# collatz_happy_training.py\n",
        "# ---------------------------------------\n",
        "# Generate datasets + Train models for\n",
        "# Collatz Conjecture & Happy Numbers\n",
        "# ---------------------------------------\n",
        "\n",
        "import pandas as pd\n",
        "import numpy as np\n",
        "import joblib\n",
        "from sklearn.model_selection import train_test_split\n",
        "from sklearn.ensemble import RandomForestRegressor, RandomForestClassifier\n",
        "from sklearn.linear_model import LogisticRegression\n",
        "from sklearn.metrics import accuracy_score, mean_squared_error\n",
        "\n",
        "# -----------------------------\n",
        "# 1. Collatz sequence functions\n",
        "# -----------------------------\n",
        "def collatz_steps(n):\n",
        "    steps = 0\n",
        "    while n != 1 and steps < 1000:  # loop safeguard\n",
        "        if n % 2 == 0:\n",
        "            n = n // 2\n",
        "        else:\n",
        "            n = 3 * n + 1\n",
        "        steps += 1\n",
        "    return steps\n",
        "\n",
        "# Generate Collatz dataset\n",
        "collatz_nums = np.arange(2, 2000)\n",
        "collatz_steps_list = [collatz_steps(x) for x in collatz_nums]\n",
        "\n",
        "collatz_df = pd.DataFrame({\n",
        "    \"number\": collatz_nums,\n",
        "    \"steps\": collatz_steps_list,\n",
        "    \"long_seq\": [1 if s > 100 else 0 for s in collatz_steps_list]  # classification label\n",
        "})\n",
        "\n",
        "collatz_df.to_csv(\"collatz_dataset.csv\", index=False)\n",
        "\n",
        "# Train models\n",
        "X_col = collatz_df[[\"number\"]]\n",
        "y_steps = collatz_df[\"steps\"]\n",
        "y_class = collatz_df[\"long_seq\"]\n",
        "\n",
        "X_train, X_test, y_train, y_test = train_test_split(X_col, y_steps, test_size=0.2, random_state=42)\n",
        "rfr = RandomForestRegressor(n_estimators=200, random_state=42)\n",
        "rfr.fit(X_train, y_train)\n",
        "print(\"Collatz RFR MSE:\", mean_squared_error(y_test, rfr.predict(X_test)))\n",
        "joblib.dump(rfr, \"rfr_collatz.joblib\")\n",
        "\n",
        "X_train, X_test, y_train, y_test = train_test_split(X_col, y_class, test_size=0.2, random_state=42)\n",
        "rfc = RandomForestClassifier(n_estimators=200, random_state=42)\n",
        "rfc.fit(X_train, y_train)\n",
        "print(\"Collatz RFC Accuracy:\", accuracy_score(y_test, rfc.predict(X_test)))\n",
        "joblib.dump(rfc, \"rfc_collatz.joblib\")\n",
        "\n",
        "# -----------------------------\n",
        "# 2. Happy numbers functions\n",
        "# -----------------------------\n",
        "def is_happy(n):\n",
        "    seen = set()\n",
        "    while n != 1 and n not in seen:\n",
        "        seen.add(n)\n",
        "        n = sum(int(d)**2 for d in str(n))\n",
        "    return n == 1\n",
        "\n",
        "happy_nums = np.arange(2, 2000)\n",
        "happy_labels = [1 if is_happy(x) else 0 for x in happy_nums]\n",
        "happy_df = pd.DataFrame({\n",
        "    \"number\": happy_nums,\n",
        "    \"is_happy\": happy_labels\n",
        "})\n",
        "\n",
        "happy_df.to_csv(\"happy_dataset.csv\", index=False)\n",
        "\n",
        "# Train models\n",
        "X_happy = happy_df[[\"number\"]]\n",
        "y_happy = happy_df[\"is_happy\"]\n",
        "\n",
        "X_train, X_test, y_train, y_test = train_test_split(X_happy, y_happy, test_size=0.2, random_state=42)\n",
        "\n",
        "log_reg = LogisticRegression(max_iter=500)\n",
        "log_reg.fit(X_train, y_train)\n",
        "print(\"Happy Logistic Accuracy:\", accuracy_score(y_test, log_reg.predict(X_test)))\n",
        "joblib.dump(log_reg, \"log_happy.joblib\")\n",
        "\n",
        "rfc_happy = RandomForestClassifier(n_estimators=200, random_state=42)\n",
        "rfc_happy.fit(X_train, y_train)\n",
        "print(\"Happy RFC Accuracy:\", accuracy_score(y_test, rfc_happy.predict(X_test)))\n",
        "joblib.dump(rfc_happy, \"rfc_happy.joblib\")\n",
        "\n",
        "print(\"✅ Training complete! Datasets + models saved locally.\")\n"
      ]
    },
    {
      "cell_type": "code",
      "source": [
        "from google.colab import files\n",
        "files.download(\"collatz_dataset.csv\")\n",
        "files.download(\"rfr_collatz.joblib\")"
      ],
      "metadata": {
        "colab": {
          "base_uri": "https://localhost:8080/",
          "height": 17
        },
        "id": "Hp4BJ6_ZYbuk",
        "outputId": "6fb12075-a3bd-4e04-c6d3-77e7d186380e"
      },
      "execution_count": 5,
      "outputs": [
        {
          "output_type": "display_data",
          "data": {
            "text/plain": [
              "<IPython.core.display.Javascript object>"
            ],
            "application/javascript": [
              "\n",
              "    async function download(id, filename, size) {\n",
              "      if (!google.colab.kernel.accessAllowed) {\n",
              "        return;\n",
              "      }\n",
              "      const div = document.createElement('div');\n",
              "      const label = document.createElement('label');\n",
              "      label.textContent = `Downloading \"${filename}\": `;\n",
              "      div.appendChild(label);\n",
              "      const progress = document.createElement('progress');\n",
              "      progress.max = size;\n",
              "      div.appendChild(progress);\n",
              "      document.body.appendChild(div);\n",
              "\n",
              "      const buffers = [];\n",
              "      let downloaded = 0;\n",
              "\n",
              "      const channel = await google.colab.kernel.comms.open(id);\n",
              "      // Send a message to notify the kernel that we're ready.\n",
              "      channel.send({})\n",
              "\n",
              "      for await (const message of channel.messages) {\n",
              "        // Send a message to notify the kernel that we're ready.\n",
              "        channel.send({})\n",
              "        if (message.buffers) {\n",
              "          for (const buffer of message.buffers) {\n",
              "            buffers.push(buffer);\n",
              "            downloaded += buffer.byteLength;\n",
              "            progress.value = downloaded;\n",
              "          }\n",
              "        }\n",
              "      }\n",
              "      const blob = new Blob(buffers, {type: 'application/binary'});\n",
              "      const a = document.createElement('a');\n",
              "      a.href = window.URL.createObjectURL(blob);\n",
              "      a.download = filename;\n",
              "      div.appendChild(a);\n",
              "      a.click();\n",
              "      div.remove();\n",
              "    }\n",
              "  "
            ]
          },
          "metadata": {}
        },
        {
          "output_type": "display_data",
          "data": {
            "text/plain": [
              "<IPython.core.display.Javascript object>"
            ],
            "application/javascript": [
              "download(\"download_b2699bf3-1d11-427e-bafd-47cff164835d\", \"collatz_dataset.csv\", 19436)"
            ]
          },
          "metadata": {}
        },
        {
          "output_type": "display_data",
          "data": {
            "text/plain": [
              "<IPython.core.display.Javascript object>"
            ],
            "application/javascript": [
              "\n",
              "    async function download(id, filename, size) {\n",
              "      if (!google.colab.kernel.accessAllowed) {\n",
              "        return;\n",
              "      }\n",
              "      const div = document.createElement('div');\n",
              "      const label = document.createElement('label');\n",
              "      label.textContent = `Downloading \"${filename}\": `;\n",
              "      div.appendChild(label);\n",
              "      const progress = document.createElement('progress');\n",
              "      progress.max = size;\n",
              "      div.appendChild(progress);\n",
              "      document.body.appendChild(div);\n",
              "\n",
              "      const buffers = [];\n",
              "      let downloaded = 0;\n",
              "\n",
              "      const channel = await google.colab.kernel.comms.open(id);\n",
              "      // Send a message to notify the kernel that we're ready.\n",
              "      channel.send({})\n",
              "\n",
              "      for await (const message of channel.messages) {\n",
              "        // Send a message to notify the kernel that we're ready.\n",
              "        channel.send({})\n",
              "        if (message.buffers) {\n",
              "          for (const buffer of message.buffers) {\n",
              "            buffers.push(buffer);\n",
              "            downloaded += buffer.byteLength;\n",
              "            progress.value = downloaded;\n",
              "          }\n",
              "        }\n",
              "      }\n",
              "      const blob = new Blob(buffers, {type: 'application/binary'});\n",
              "      const a = document.createElement('a');\n",
              "      a.href = window.URL.createObjectURL(blob);\n",
              "      a.download = filename;\n",
              "      div.appendChild(a);\n",
              "      a.click();\n",
              "      div.remove();\n",
              "    }\n",
              "  "
            ]
          },
          "metadata": {}
        },
        {
          "output_type": "display_data",
          "data": {
            "text/plain": [
              "<IPython.core.display.Javascript object>"
            ],
            "application/javascript": [
              "download(\"download_68fe6374-5ce3-4e82-856d-7e552192ef15\", \"rfr_collatz.joblib\", 20477857)"
            ]
          },
          "metadata": {}
        }
      ]
    },
    {
      "cell_type": "code",
      "source": [
        "import joblib\n",
        "\n",
        "# Load trained models\n",
        "rfr_collatz = joblib.load(\"rfr_collatz.joblib\")\n",
        "rfc_collatz = joblib.load(\"rfc_collatz.joblib\")\n",
        "log_happy = joblib.load(\"log_happy.joblib\")\n",
        "rfc_happy = joblib.load(\"rfc_happy.joblib\")\n",
        "\n",
        "# Function to generate Collatz sequence\n",
        "def collatz_sequence(n):\n",
        "    seq = [n]\n",
        "    while n != 1:\n",
        "        if n % 2 == 0:\n",
        "            n = n // 2\n",
        "        else:\n",
        "            n = 3*n + 1\n",
        "        seq.append(n)\n",
        "    return seq\n",
        "\n",
        "# Provide your number here\n",
        "num = int(input(\"Enter a number: \"))\n",
        "\n",
        "# Collatz predictions\n",
        "pred_steps = rfr_collatz.predict([[num]])[0]\n",
        "pred_long_class = rfc_collatz.predict([[num]])[0]\n",
        "\n",
        "# Happy number predictions\n",
        "pred_happy_log = log_happy.predict([[num]])[0]\n",
        "pred_happy_rf = rfc_happy.predict([[num]])[0]\n",
        "\n",
        "# Generate full Collatz sequence\n",
        "sequence = collatz_sequence(num)\n",
        "\n",
        "print(f\"\\nCollatz sequence for {num}: {sequence}\")\n",
        "print(f\"Predicted steps to reach 1: {pred_steps:.0f}\")\n",
        "print(f\"Predicted long sequence? {'Yes' if pred_long_class else 'No'}\")\n",
        "print(f\"Happy number prediction (Logistic): {'Yes' if pred_happy_log else 'No'}\")\n",
        "print(f\"Happy number prediction (Random Forest): {'Yes' if pred_happy_rf else 'No'}\")"
      ],
      "metadata": {
        "colab": {
          "base_uri": "https://localhost:8080/"
        },
        "id": "Me1VxF3dYBB8",
        "outputId": "c24e9d5c-f80e-4b11-aeea-5791ae71f5d4"
      },
      "execution_count": 4,
      "outputs": [
        {
          "output_type": "stream",
          "name": "stdout",
          "text": [
            "Enter a number: 2\n",
            "\n",
            "Collatz sequence for 2: [2, 1]\n",
            "Predicted steps to reach 1: 3\n",
            "Predicted long sequence? No\n",
            "Happy number prediction (Logistic): No\n",
            "Happy number prediction (Random Forest): No\n"
          ]
        },
        {
          "output_type": "stream",
          "name": "stderr",
          "text": [
            "/usr/local/lib/python3.12/dist-packages/sklearn/utils/validation.py:2739: UserWarning: X does not have valid feature names, but RandomForestRegressor was fitted with feature names\n",
            "  warnings.warn(\n",
            "/usr/local/lib/python3.12/dist-packages/sklearn/utils/validation.py:2739: UserWarning: X does not have valid feature names, but RandomForestClassifier was fitted with feature names\n",
            "  warnings.warn(\n",
            "/usr/local/lib/python3.12/dist-packages/sklearn/utils/validation.py:2739: UserWarning: X does not have valid feature names, but LogisticRegression was fitted with feature names\n",
            "  warnings.warn(\n",
            "/usr/local/lib/python3.12/dist-packages/sklearn/utils/validation.py:2739: UserWarning: X does not have valid feature names, but RandomForestClassifier was fitted with feature names\n",
            "  warnings.warn(\n"
          ]
        }
      ]
    }
  ]
}