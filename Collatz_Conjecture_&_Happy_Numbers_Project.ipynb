{
  "nbformat": 4,
  "nbformat_minor": 0,
  "metadata": {
    "colab": {
      "provenance": []
    },
    "kernelspec": {
      "name": "python3",
      "display_name": "Python 3"
    },
    "language_info": {
      "name": "python"
    }
  },
  "cells": [
    {
      "cell_type": "markdown",
      "metadata": {
        "id": "b78fab9f"
      },
      "source": [
        "# Collatz Conjecture & Happy Numbers — End-to-End Data Science Project\n",
        "\n",
        "\n",
        "**What this notebook contains (end-to-end):**\n",
        "- Mathematical background and formulas for Collatz & Happy numbers (what & why)\n",
        "- Dataset generation (memoized, efficient)\n",
        "- Exploratory Data Analysis (EDA) and visualizations\n",
        "- Feature engineering and model training (Random Forest, Logistic Regression)\n",
        "- Evaluation metrics and model interpretation (feature importances, SHAP)\n",
        "- Prediction / interactive cells to input any number and get sequence + model outputs\n",
        "- Exporting datasets & models and notes on GitHub packaging"
      ]
    },
    {
      "cell_type": "code",
      "source": [
        "# CODE\n",
        "# Run this cell first in Colab. Skip in local if already installed.\n",
        "!pip install -q scikit-learn pandas joblib shap matplotlib seaborn"
      ],
      "metadata": {
        "id": "T9SaELv_k527"
      },
      "execution_count": 15,
      "outputs": []
    },
    {
      "cell_type": "markdown",
      "metadata": {
        "id": "65b0e9e1"
      },
      "source": [
        "## Theory: Collatz Conjecture (3n + 1) and Happy Numbers\n",
        "\n",
        "### Collatz Conjecture\n",
        "**Rule (piecewise function):**\n",
        "\n",
        "$$\n",
        "f(n) =\n",
        "\\begin{cases}\n",
        "\\dfrac{n}{2} & \\text{if } n \\text{ is even} \\\\\n",
        "3n + 1 & \\text{if } n \\text{ is odd}\n",
        "\\end{cases}\n",
        "$$\n",
        "\n",
        "\n",
        "Repeat by setting n ← f(n) and iterate. The conjecture states that for every positive integer n, iteration eventually reaches the cycle `1 → 4 → 2 → 1`.\n",
        "\n",
        "**Key measurable properties:**\n",
        "- *Sequence length* (steps to first reach 1)\n",
        "- *Peak value* reached during the trajectory\n",
        "- *Transient behavior* (e.g., initial growth before falling)\n",
        "\n",
        "Why study with data science:\n",
        "- Simple rule -> complex behavior (chaotic)\n",
        "- ML can detect empirical patterns and build predictive models (not proofs)\n",
        "\n",
        "---\n",
        "\n",
        "### Happy Numbers\n",
        "Rule: Replace n by the sum of the squares of its decimal digits repeatedly:\n",
        "\n",
        "If $n$ has digits $d_1, d_2, \\dots, d_k$:\n",
        "\n",
        "$$\n",
        "f(n) = d_1^2 + d_2^2 + \\dots + d_k^2\n",
        "$$\n",
        "\n",
        "\n",
        "Iterate g(n). If you reach 1, n is *happy*. Otherwise it falls into a non-1 cycle and is *unhappy*.\n",
        "\n",
        "Example: 19 → 1^2 + 9^2 = 82 → 68 → 100 → 1 (happy)"
      ]
    },
    {
      "cell_type": "markdown",
      "source": [
        "# **Utilities: collatz, happy functions**"
      ],
      "metadata": {
        "id": "irYqd9SJpEfh"
      }
    },
    {
      "cell_type": "code",
      "source": [
        "# CODE\n",
        "import math, sys, time\n",
        "from functools import lru_cache\n",
        "\n",
        "def collatz_sequence(n, max_steps=10**7):\n",
        "    \"\"\"Deterministic Collatz sequence generator. Returns list ending at 1\n",
        "       or until max_steps to avoid infinite loops.\"\"\"\n",
        "    seq = []\n",
        "    steps = 0\n",
        "    while n != 1 and steps < max_steps:\n",
        "        seq.append(n)\n",
        "        if n % 2 == 0:\n",
        "            n = n // 2\n",
        "        else:\n",
        "            n = 3*n + 1\n",
        "        steps += 1\n",
        "    seq.append(n)\n",
        "    return seq\n",
        "\n",
        "def is_happy(n, max_iter=1000):\n",
        "    \"\"\"Return (is_happy, iterations, cycle_found).\"\"\"\n",
        "    seen = set()\n",
        "    steps = 0\n",
        "    while n != 1 and n not in seen and steps < max_iter:\n",
        "        seen.add(n)\n",
        "        s = 0\n",
        "        while n:\n",
        "            n, d = divmod(n, 10)\n",
        "            s += d*d\n",
        "        n = s\n",
        "        steps += 1\n",
        "    return (n == 1, steps, (n if n in seen else None))"
      ],
      "metadata": {
        "id": "ONQZ_bfSl28Z"
      },
      "execution_count": 16,
      "outputs": []
    },
    {
      "cell_type": "markdown",
      "source": [
        "# **Data generation (memoized Collatz + Happy)**"
      ],
      "metadata": {
        "id": "F_PqjgvApZQa"
      }
    },
    {
      "cell_type": "code",
      "source": [
        "# CODE\n",
        "# Efficient generation for Collatz with memoization. Produces CSVs for downstream ML.\n",
        "import csv\n",
        "from collections import defaultdict\n",
        "import pandas as pd\n",
        "import os\n",
        "from tqdm import tqdm\n",
        "\n",
        "def generate_datasets(N=50000, out_dir='data'):\n",
        "    os.makedirs(out_dir, exist_ok=True)\n",
        "    collatz_memo = {1: {'steps':0, 'peak':1}}\n",
        "    collatz_rows = []\n",
        "    happy_rows = []\n",
        "\n",
        "    def collatz_stats(n):\n",
        "        \"\"\"Return (steps, peak) for starting n using memoization.\"\"\"\n",
        "        original = n\n",
        "        path = []\n",
        "        peak = n\n",
        "        steps = 0\n",
        "        while n != 1 and n not in collatz_memo:\n",
        "            path.append(n)\n",
        "            if n % 2 == 0:\n",
        "                n = n // 2\n",
        "            else:\n",
        "                n = 3*n + 1\n",
        "            peak = max(peak, n)\n",
        "            steps += 1\n",
        "        # Use memo if hit\n",
        "        if n in collatz_memo:\n",
        "            total_steps = steps + collatz_memo[n]['steps']\n",
        "            peak = max(peak, collatz_memo[n]['peak'])\n",
        "        else:\n",
        "            total_steps = steps\n",
        "        # backfill\n",
        "        cur = collatz_memo.get(n, {'steps':0})['steps'] if n in collatz_memo else 0\n",
        "        for x in reversed(path):\n",
        "            cur += 1\n",
        "            collatz_memo[x] = {'steps': cur, 'peak': max(x, peak)}\n",
        "        return total_steps, peak\n",
        "\n",
        "    for i in tqdm(range(1, N+1), desc=f\"Generating 1..{N}\"):\n",
        "        steps, peak = collatz_stats(i)\n",
        "        collatz_rows.append({\n",
        "            'n': i,\n",
        "            'collatz_steps': steps,\n",
        "            'collatz_peak': peak,\n",
        "            'collatz_peak_ratio': float(peak)/i if i>0 else 0,\n",
        "            'n_bits': i.bit_length(),\n",
        "            'sum_digits': sum(int(d) for d in str(i)),\n",
        "            'parity': int(i % 2)\n",
        "        })\n",
        "        happy, iters, cyc = is_happy(i)\n",
        "        happy_rows.append({\n",
        "            'n': i,\n",
        "            'is_happy': int(happy),\n",
        "            'happy_iters': iters,\n",
        "            'happy_cycle': cyc if cyc is not None else 0,\n",
        "            'sum_sq_digits': sum(int(d)**2 for d in str(i)),\n",
        "            'digit_count': len(str(i)),\n",
        "            'sum_digits': sum(int(d) for d in str(i)),\n",
        "            'n_mod_3': int(i % 3),\n",
        "            'n_mod_9': int(i % 9)\n",
        "        })\n",
        "\n",
        "    df_collatz = pd.DataFrame(collatz_rows)\n",
        "    df_happy = pd.DataFrame(happy_rows)\n",
        "    df_collatz.to_csv(os.path.join(out_dir, 'collatz_dataset.csv'), index=False)\n",
        "    df_happy.to_csv(os.path.join(out_dir, 'happy_dataset.csv'), index=False)\n",
        "    return df_collatz, df_happy\n",
        "\n",
        "# Example run (N can be increased; in Colab you can set higher)\n",
        "dfc, dfh = generate_datasets(N=50000)\n",
        "dfc.head(), dfh.head()"
      ],
      "metadata": {
        "id": "juE4RqhIl3Dr",
        "colab": {
          "base_uri": "https://localhost:8080/"
        },
        "outputId": "a49e597c-4d34-47e4-c792-117ce9a4934f"
      },
      "execution_count": 17,
      "outputs": [
        {
          "output_type": "stream",
          "name": "stderr",
          "text": [
            "Generating 1..50000: 100%|██████████| 50000/50000 [00:01<00:00, 30854.43it/s]\n"
          ]
        },
        {
          "output_type": "execute_result",
          "data": {
            "text/plain": [
              "(   n  collatz_steps  collatz_peak  collatz_peak_ratio  n_bits  sum_digits  \\\n",
              " 0  1              0             1            1.000000       1           1   \n",
              " 1  2              1             2            1.000000       2           2   \n",
              " 2  3              7            16            5.333333       2           3   \n",
              " 3  4              2            16            4.000000       3           4   \n",
              " 4  5              5            16            3.200000       3           5   \n",
              " \n",
              "    parity  \n",
              " 0       1  \n",
              " 1       0  \n",
              " 2       1  \n",
              " 3       0  \n",
              " 4       1  ,\n",
              "    n  is_happy  happy_iters  happy_cycle  sum_sq_digits  digit_count  \\\n",
              " 0  1         1            0            0              1            1   \n",
              " 1  2         0            9            4              4            1   \n",
              " 2  3         0           13           37              9            1   \n",
              " 3  4         0            8            4             16            1   \n",
              " 4  5         0           12           89             25            1   \n",
              " \n",
              "    sum_digits  n_mod_3  n_mod_9  \n",
              " 0           1        1        1  \n",
              " 1           2        2        2  \n",
              " 2           3        0        3  \n",
              " 3           4        1        4  \n",
              " 4           5        2        5  )"
            ]
          },
          "metadata": {},
          "execution_count": 17
        }
      ]
    },
    {
      "cell_type": "markdown",
      "source": [
        "# **Quick EDA & Visuals (Code + small explanation)**"
      ],
      "metadata": {
        "id": "p5VOXn5fpnzD"
      }
    },
    {
      "cell_type": "code",
      "source": [
        "# CODE\n",
        "import matplotlib.pyplot as plt\n",
        "import seaborn as sns\n",
        "\n",
        "# Basic stats\n",
        "print(\"Collatz: n range:\", dfc['n'].min(), '-', dfc['n'].max())\n",
        "print(\"Average steps:\", dfc['collatz_steps'].mean(), \"Max steps:\", dfc['collatz_steps'].max())\n",
        "\n",
        "# Histogram steps\n",
        "plt.figure(figsize=(8,4))\n",
        "sns.histplot(dfc['collatz_steps'], bins=100, kde=False)\n",
        "plt.title(\"Distribution of Collatz steps (N sample)\")\n",
        "plt.xlabel(\"Steps to reach 1\")\n",
        "plt.show()\n",
        "\n",
        "# Happy distribution\n",
        "plt.figure(figsize=(6,3))\n",
        "sns.countplot(x='is_happy', data=dfh)\n",
        "plt.title(\"Happy vs Unhappy counts\")\n",
        "plt.show()"
      ],
      "metadata": {
        "id": "D9fxxx_ql3Hr",
        "colab": {
          "base_uri": "https://localhost:8080/",
          "height": 761
        },
        "outputId": "0a3e426b-85ad-4d8d-b4e8-343a4ad2112c"
      },
      "execution_count": 18,
      "outputs": [
        {
          "output_type": "stream",
          "name": "stdout",
          "text": [
            "Collatz: n range: 1 - 50000\n",
            "Average steps: 100.50228 Max steps: 323\n"
          ]
        },
        {
          "output_type": "display_data",
          "data": {
            "text/plain": [
              "<Figure size 800x400 with 1 Axes>"
            ],
            "image/png": "[encoded data removed]"
          },
          "metadata": {}
        },
        {
          "output_type": "display_data",
          "data": {
            "text/plain": [
              "<Figure size 600x300 with 1 Axes>"
            ],
            "image/png": "[encoded data removed]"
          },
          "metadata": {}
        }
      ]
    },
    {
      "cell_type": "markdown",
      "source": [
        "# **Feature engineering & train/test split**"
      ],
      "metadata": {
        "id": "dxzCNKFepudL"
      }
    },
    {
      "cell_type": "code",
      "source": [
        "# CODE\n",
        "from sklearn.model_selection import train_test_split\n",
        "from sklearn.preprocessing import StandardScaler\n",
        "\n",
        "# Collatz features & target\n",
        "Xc = dfc[['n','collatz_peak_ratio','n_bits','sum_digits','parity']].copy()\n",
        "yc = dfc['collatz_steps'].copy()\n",
        "\n",
        "# Log transform to stabilize long tailed target\n",
        "import numpy as np\n",
        "yc_log = np.log1p(yc)\n",
        "\n",
        "Xc_train, Xc_test, yc_train, yc_test = train_test_split(Xc, yc_log, test_size=0.2, random_state=42)\n",
        "scaler_c = StandardScaler()\n",
        "Xc_train_s = scaler_c.fit_transform(Xc_train)\n",
        "Xc_test_s = scaler_c.transform(Xc_test)\n",
        "\n",
        "# Happy features & target\n",
        "Xh = dfh[['sum_sq_digits','sum_digits','digit_count','n_mod_3','n_mod_9']].copy()\n",
        "yh = dfh['is_happy'].copy()\n",
        "Xh_train, Xh_test, yh_train, yh_test = train_test_split(Xh, yh, test_size=0.2, random_state=42)\n",
        "scaler_h = StandardScaler()\n",
        "Xh_train_s = scaler_h.fit_transform(Xh_train)\n",
        "Xh_test_s = scaler_h.transform(Xh_test)"
      ],
      "metadata": {
        "id": "kAfL8_MAl3Kz"
      },
      "execution_count": 19,
      "outputs": []
    },
    {
      "cell_type": "markdown",
      "source": [
        "# **Train baseline models (Random Forest + Logistic)**"
      ],
      "metadata": {
        "id": "yLDQZ5sJp0Ti"
      }
    },
    {
      "cell_type": "code",
      "source": [
        "# CODE\n",
        "from sklearn.ensemble import RandomForestRegressor, RandomForestClassifier\n",
        "from sklearn.linear_model import LogisticRegression\n",
        "from sklearn.metrics import mean_squared_error, r2_score, accuracy_score, precision_score, recall_score, f1_score\n",
        "\n",
        "# Collatz regression (predict log-steps)\n",
        "rfr = RandomForestRegressor(n_estimators=200, random_state=42, n_jobs=-1)\n",
        "rfr.fit(Xc_train_s, yc_train)\n",
        "yc_pred_log = rfr.predict(Xc_test_s)\n",
        "yc_pred = np.expm1(yc_pred_log)\n",
        "yc_true = np.expm1(yc_test)\n",
        "\n",
        "rmse = mean_squared_error(yc_true, yc_pred)\n",
        "r2 = r2_score(yc_true, yc_pred)\n",
        "print(\"Collatz regression RMSE:\", rmse, \"R2:\", r2)\n",
        "\n",
        "# Collatz classification: define 'is_long' using mean+std threshold\n",
        "threshold = int(dfc['collatz_steps'].mean() + dfc['collatz_steps'].std())\n",
        "dfc['is_long'] = (dfc['collatz_steps'] > threshold).astype(int)\n",
        "Xc_cl = dfc[['n','collatz_peak_ratio','n_bits','sum_digits','parity']]\n",
        "yc_cl = dfc['is_long']\n",
        "\n",
        "Xc_train_c, Xc_test_c, yc_train_c, yc_test_c = train_test_split(Xc_cl, yc_cl, test_size=0.2, random_state=42)\n",
        "scaler_cl = StandardScaler()\n",
        "Xc_train_c_s = scaler_cl.fit_transform(Xc_train_c)\n",
        "Xc_test_c_s = scaler_cl.transform(Xc_test_c)\n",
        "\n",
        "rfc = RandomForestClassifier(n_estimators=200, random_state=42, n_jobs=-1)\n",
        "rfc.fit(Xc_train_c_s, yc_train_c)\n",
        "yc_cl_pred = rfc.predict(Xc_test_c_s)\n",
        "print(\"Collatz classifier accuracy:\", accuracy_score(yc_test_c, yc_cl_pred),\n",
        "      \"precision:\", precision_score(yc_test_c, yc_cl_pred, zero_division=0),\n",
        "      \"recall:\", recall_score(yc_test_c, yc_cl_pred, zero_division=0))\n",
        "\n",
        "# Happy numbers: Logistic + RandomForest\n",
        "log = LogisticRegression(max_iter=1000)\n",
        "log.fit(Xh_train_s, yh_train)\n",
        "yh_pred_log = log.predict(Xh_test_s)\n",
        "print(\"Happy Logistic accuracy:\", accuracy_score(yh_test, yh_pred_log))\n",
        "\n",
        "rfc_h = RandomForestClassifier(n_estimators=200, random_state=42, n_jobs=-1)\n",
        "rfc_h.fit(Xh_train_s, yh_train)\n",
        "yh_pred_rf = rfc_h.predict(Xh_test_s)\n",
        "print(\"Happy RF accuracy:\", accuracy_score(yh_test, yh_pred_rf),\n",
        "      \"precision:\", precision_score(yh_test, yh_pred_rf, zero_division=0))"
      ],
      "metadata": {
        "id": "iXGmLBSnl3OM",
        "colab": {
          "base_uri": "https://localhost:8080/"
        },
        "outputId": "1beff7a8-6b54-4631-ec50-6818b1fcd404"
      },
      "execution_count": 20,
      "outputs": [
        {
          "output_type": "stream",
          "name": "stdout",
          "text": [
            "Collatz regression RMSE: 1941.1869479174538 R2: 0.22204208880791054\n",
            "Collatz classifier accuracy: 0.816 precision: 0.49479768786127165 recall: 0.23375204806116875\n",
            "Happy Logistic accuracy: 0.8444\n",
            "Happy RF accuracy: 0.9996 precision: 0.9993564993564994\n"
          ]
        }
      ]
    },
    {
      "cell_type": "markdown",
      "source": [
        "# **Save models and datasets**"
      ],
      "metadata": {
        "id": "H0asKYwHp56b"
      }
    },
    {
      "cell_type": "code",
      "source": [
        "# CODE\n",
        "import joblib\n",
        "os.makedirs('models', exist_ok=True)\n",
        "joblib.dump({'model': rfr, 'scaler': scaler_c}, 'models/rfr_collatz.joblib')\n",
        "joblib.dump({'model': rfc, 'scaler': scaler_cl}, 'models/rfc_collatz.joblib')\n",
        "joblib.dump({'model': log, 'scaler': scaler_h}, 'models/log_happy.joblib')\n",
        "joblib.dump({'model': rfc_h, 'scaler': scaler_h}, 'models/rfc_happy.joblib')\n",
        "\n",
        "# Datasets already saved in data/\n",
        "print(\"Saved models to models/*.joblib and datasets to data/*.csv\")"
      ],
      "metadata": {
        "id": "HrFVTx2pl3RS",
        "colab": {
          "base_uri": "https://localhost:8080/"
        },
        "outputId": "b03a89c6-7aef-4b28-cd21-12af0752e465"
      },
      "execution_count": 21,
      "outputs": [
        {
          "output_type": "stream",
          "name": "stdout",
          "text": [
            "Saved models to models/*.joblib and datasets to data/*.csv\n"
          ]
        }
      ]
    },
    {
      "cell_type": "markdown",
      "source": [
        "# **Prediction / Interactive**"
      ],
      "metadata": {
        "id": "sn_ZYzc4p6qq"
      }
    },
    {
      "cell_type": "code",
      "source": [
        "# CODE\n",
        "# Load models and define predict wrapper that mirrors training features\n",
        "import joblib\n",
        "models_rfr = joblib.load('models/rfr_collatz.joblib')\n",
        "models_rfc = joblib.load('models/rfc_collatz.joblib')\n",
        "models_log = joblib.load('models/log_happy.joblib')\n",
        "models_rfh = joblib.load('models/rfc_happy.joblib')\n",
        "\n",
        "rfr_model, rfr_scaler = models_rfr['model'], models_rfr['scaler']\n",
        "rfc_model, rfc_scaler = models_rfc['model'], models_rfc['scaler']\n",
        "log_model, log_scaler = models_log['model'], models_log['scaler']\n",
        "rfh_model, rfh_scaler = models_rfh['model'], models_rfh['scaler']\n",
        "\n",
        "def make_features_for_collatz(n):\n",
        "    return [[\n",
        "        n,\n",
        "        # placeholder for peak_ratio (unknown before simulation) - use heuristic or 0\n",
        "        0.0,\n",
        "        n.bit_length(),\n",
        "        sum(int(d) for d in str(n)),\n",
        "        int(n % 2)\n",
        "    ]]\n",
        "\n",
        "def make_features_for_happy(n):\n",
        "    ssd = sum(int(d)**2 for d in str(n))\n",
        "    return [[ssd, sum(int(d) for d in str(n)), len(str(n)), int(n % 3), int(n % 9)]]\n",
        "\n",
        "# Interact\n",
        "num = int(input(\"Enter a positive integer: \"))\n",
        "# deterministic sequence\n",
        "seq = collatz_sequence(num)\n",
        "print(f\"Collatz sequence (first 50 items): {seq[:50]}\")\n",
        "print(\"True steps to 1:\", len(seq)-1)\n",
        "\n",
        "# Predict steps (note: model uses features without real peak_ratio; better to compute partial run features)\n",
        "Xnum = rfr_scaler.transform(make_features_for_collatz(num))\n",
        "pred_log = rfr_model.predict(Xnum)[0]\n",
        "pred_steps = np.expm1(pred_log)\n",
        "print(\"Predicted steps (approx):\", int(pred_steps))\n",
        "\n",
        "# Predict long/short using classifier\n",
        "Xnum_c = rfc_scaler.transform(make_features_for_collatz(num))\n",
        "pred_long = rfc_model.predict_proba(Xnum_c)[0,1]\n",
        "print(f\"Predicted probability of 'long' sequence: {pred_long:.3f}\")\n",
        "\n",
        "# Happy predictions\n",
        "Xh_num = log_scaler.transform(make_features_for_happy(num))\n",
        "print(\"Logistic predicts happy?:\", bool(log_model.predict(Xh_num)[0]))\n",
        "Xh_num2 = rfh_scaler.transform(make_features_for_happy(num))\n",
        "print(\"RandomForest predicts happy?:\", bool(rfh_model.predict(Xh_num2)[0]))"
      ],
      "metadata": {
        "id": "pTYXgZ4Il3UU",
        "colab": {
          "base_uri": "https://localhost:8080/"
        },
        "outputId": "80137a2b-07ba-4f18-b7d3-a6d5ad786cf3"
      },
      "execution_count": 22,
      "outputs": [
        {
          "output_type": "stream",
          "name": "stdout",
          "text": [
            "Enter a positive integer: 20\n",
            "Collatz sequence (first 50 items): [20, 10, 5, 16, 8, 4, 2, 1]\n",
            "True steps to 1: 7\n",
            "Predicted steps (approx): 7\n",
            "Predicted probability of 'long' sequence: 0.000\n",
            "Logistic predicts happy?: False\n",
            "RandomForest predicts happy?: False\n"
          ]
        },
        {
          "output_type": "stream",
          "name": "stderr",
          "text": [
            "/usr/local/lib/python3.12/dist-packages/sklearn/utils/validation.py:2739: UserWarning: X does not have valid feature names, but StandardScaler was fitted with feature names\n",
            "  warnings.warn(\n",
            "/usr/local/lib/python3.12/dist-packages/sklearn/utils/validation.py:2739: UserWarning: X does not have valid feature names, but StandardScaler was fitted with feature names\n",
            "  warnings.warn(\n",
            "/usr/local/lib/python3.12/dist-packages/sklearn/utils/validation.py:2739: UserWarning: X does not have valid feature names, but StandardScaler was fitted with feature names\n",
            "  warnings.warn(\n",
            "/usr/local/lib/python3.12/dist-packages/sklearn/utils/validation.py:2739: UserWarning: X does not have valid feature names, but StandardScaler was fitted with feature names\n",
            "  warnings.warn(\n"
          ]
        }
      ]
    },
    {
      "cell_type": "markdown",
      "source": [
        "# **Model explanation with SHAP**"
      ],
      "metadata": {
        "id": "rWrhcNmVqKJa"
      }
    },
    {
      "cell_type": "code",
      "source": [
        "# CODE\n",
        "# SHAP explanation for the RandomForest on Happy numbers (fast)\n",
        "import shap\n",
        "explainer = shap.TreeExplainer(rfc_h)\n",
        "# sample some inputs\n",
        "sample_X = Xh_train.sample(100, random_state=42)\n",
        "shap_values = explainer.shap_values(sample_X)\n",
        "# Visual (force plot requires JS; use summary_plot)\n",
        "shap.summary_plot(shap_values, sample_X, show=True)"
      ],
      "metadata": {
        "id": "PjLMe8BDl3Xj",
        "colab": {
          "base_uri": "https://localhost:8080/",
          "height": 697
        },
        "outputId": "2588505d-50e7-46bd-d920-def10daf1243"
      },
      "execution_count": 23,
      "outputs": [
        {
          "output_type": "display_data",
          "data": {
            "text/plain": [
              "<Figure size 1150x660 with 2 Axes>"
            ],
            "image/png": "[encoded data removed]"
          },
          "metadata": {}
        }
      ]
    },
    {
      "cell_type": "markdown",
      "source": [
        "# **Notes on scaling, deep learning, and LLM ideas**"
      ],
      "metadata": {
        "id": "nZjDRxZtqPgb"
      }
    },
    {
      "cell_type": "markdown",
      "metadata": {
        "id": "09aa8f85"
      },
      "source": [
        "## Scaling & Advanced Ideas (what & why & how)\n",
        "\n",
        "### Scale to N = 1e6 or more\n",
        "- Use Dask or PySpark for distributed computation of Collatz stats.\n",
        "- Use integer/bitwise optimizations; avoid Python loops if possible (Cython or Rust for speed).\n",
        "\n",
        "### Deep Learning / Sequence Models\n",
        "- Frame as sequence-to-value: feed the first K terms to an LSTM/Transformer to predict final length or peak.\n",
        "- Use padding/truncation and masking. Requires GPU and careful normalization.\n",
        "\n",
        "### LLMs & Pattern Discovery\n",
        "- LLMs are not suitable for numeric exact prediction, but they can:\n",
        "  - Summarize patterns found by ML.\n",
        "  - Generate natural-language explanations of model output.\n",
        "  - Assist in writing hypothesis text, detecting anomalies in results.\n",
        "\n",
        "### Research vs ML\n",
        "- ML does NOT prove mathematical conjectures - treat results as exploratory evidence, not proof."
      ]
    }
  ]
}